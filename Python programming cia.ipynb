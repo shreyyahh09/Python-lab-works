{
 "cells": [
  {
   "cell_type": "markdown",
   "metadata": {},
   "source": [
    "With the help of dictionary data type, create a set of key-value pairs for collecting a student's college admission details."
   ]
  },
  {
   "cell_type": "code",
   "execution_count": 3,
   "metadata": {},
   "outputs": [
    {
     "name": "stdout",
     "output_type": "stream",
     "text": [
      "{'name': 'shreya kispotta', 'class': 'mscea', 'Reg no': 22122317, 'DOB': '03/12/1998', 'Mobile number': '9644997899', 'address': '346/4 ring road ambikapur chhattisgarh ', 'Fathers name': 'raj kumar', 'mothers name': 'usha ranjani '}\n"
     ]
    }
   ],
   "source": [
    "thisdict = { \n",
    "    \"name\": \"shreya kispotta\",\n",
    "    \"class\" : \"mscea\",\n",
    "    \"Reg no\": 22122317,\n",
    "    \"DOB\": \"03/12/1998\" ,\n",
    "    \"Mobile number\": \"9644997899\",\n",
    "    \"address\": \"346/4 ring road ambikapur chhattisgarh \",\n",
    "    \"Fathers name\": \"raj kumar\",\n",
    "    \"mothers name\": \"usha ranjani \",\n",
    "}\n",
    "\n",
    "\n",
    "print(thisdict) "
   ]
  },
  {
   "cell_type": "code",
   "execution_count": 6,
   "metadata": {},
   "outputs": [],
   "source": [
    "thisdict = {\n",
    "    \"name\": \"shruti sharma\",\n",
    "    \"class\": \"bscea\", \n",
    "    \"Reg no\": 22112027,\n",
    "    \"DOB\": \"04/08/2004\", \n",
    "    \"mobile number\" : \"9958698520\",\n",
    "    \"address\" : \"vasundhara, ghaziabad,uttarpradesh\", \n",
    "    \"Fathers name\" : \"rajesh kumar\", \n",
    "    \"mothers name\" : \"mithlesh sharma\",\n",
    "} "
   ]
  }
 ],
 "metadata": {
  "kernelspec": {
   "display_name": "Python 3.10.6 64-bit",
   "language": "python",
   "name": "python3"
  },
  "language_info": {
   "codemirror_mode": {
    "name": "ipython",
    "version": 3
   },
   "file_extension": ".py",
   "mimetype": "text/x-python",
   "name": "python",
   "nbconvert_exporter": "python",
   "pygments_lexer": "ipython3",
   "version": "3.10.6"
  },
  "orig_nbformat": 4,
  "vscode": {
   "interpreter": {
    "hash": "afb734500600fd355917ca529030176ea0ca205570884b88f2f6f7d791fd3fbe"
   }
  }
 },
 "nbformat": 4,
 "nbformat_minor": 2
}
